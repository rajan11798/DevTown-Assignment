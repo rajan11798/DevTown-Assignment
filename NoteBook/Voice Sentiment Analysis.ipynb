{
 "cells": [
  {
   "cell_type": "code",
   "execution_count": 20,
   "metadata": {},
   "outputs": [],
   "source": [
    "import matplotlib.pyplot as plt\n",
    "import numpy as np\n",
    "from alive_progress import alive_bar\n",
    "import time, logging\n",
    "import time\n",
    "import enlighten"
   ]
  },
  {
   "cell_type": "code",
   "execution_count": 3,
   "metadata": {},
   "outputs": [],
   "source": [
    "import os\n",
    "os.chdir(r'C:\\Users\\user\\OneDrive\\Desktop\\archive (2)\\Actor_02')\n",
    "# !pip install --upgrade librosa"
   ]
  },
  {
   "cell_type": "markdown",
   "metadata": {},
   "source": [
    "#### We’ll be using librosa for analyzing and extracting features of an audio signal. For playing audio we will use pyAudio so that we can play music on jupyter directly. \n",
    "#### https://towardsdatascience.com/how-i-understood-what-features-to-consider-while-training-audio-files-eedfb6e9002b"
   ]
  },
  {
   "cell_type": "code",
   "execution_count": 4,
   "metadata": {},
   "outputs": [
    {
     "name": "stdout",
     "output_type": "stream",
     "text": [
      "<class 'numpy.ndarray'> <class 'int'>\n",
      "\n",
      " [ 0.0000000e+00  0.0000000e+00  0.0000000e+00 ... -1.2893076e-06\n",
      "  1.0079392e-06 -7.8646877e-07] \n",
      " 22050\n"
     ]
    }
   ],
   "source": [
    "import librosa\n",
    "# audio_path = 'C:\\Users\\user\\OneDrive\\Desktop\\archive (2)\\Actor_01'\n",
    "x , sr = librosa.load(\"03-01-01-01-01-01-02.wav\")\n",
    "print(type(x), type(sr))\n",
    "print(\"\\n\",x,\"\\n\",sr)"
   ]
  },
  {
   "cell_type": "markdown",
   "metadata": {},
   "source": [
    "#### Loudness "
   ]
  },
  {
   "cell_type": "code",
   "execution_count": 5,
   "metadata": {},
   "outputs": [
    {
     "name": "stdout",
     "output_type": "stream",
     "text": [
      "max_loudness :  0.07641673   avg_loudness :  -2.2917680502228186e-07\n"
     ]
    }
   ],
   "source": [
    "max_loudness = max(x)\n",
    "avg_loudness = sum(x)/len(x)\n",
    "print(\"max_loudness : \",max_loudness,\"  avg_loudness : \",avg_loudness)"
   ]
  },
  {
   "cell_type": "markdown",
   "metadata": {},
   "source": [
    "#### Tempo "
   ]
  },
  {
   "cell_type": "code",
   "execution_count": 6,
   "metadata": {},
   "outputs": [
    {
     "name": "stdout",
     "output_type": "stream",
     "text": [
      "151.99908088235293 [28 45 62 80]\n"
     ]
    }
   ],
   "source": [
    "tempo, beat_frames = librosa.beat.beat_track(y=x, sr=sr)\n",
    "print(tempo, beat_frames)"
   ]
  },
  {
   "cell_type": "markdown",
   "metadata": {},
   "source": [
    "#### Beat Time "
   ]
  },
  {
   "cell_type": "code",
   "execution_count": 7,
   "metadata": {},
   "outputs": [
    {
     "name": "stdout",
     "output_type": "stream",
     "text": [
      "Estimated tempo: 152.00 beats per minute\n",
      "Minimum :  0.6501587301587302\n",
      "Maximum :  1.8575963718820863\n",
      "Average :  1.2480725623582767\n"
     ]
    },
    {
     "data": {
      "text/plain": [
       "array([0.65015873, 1.04489796, 1.43963719, 1.85759637])"
      ]
     },
     "execution_count": 7,
     "metadata": {},
     "output_type": "execute_result"
    }
   ],
   "source": [
    "print('Estimated tempo: {:.2f} beats per minute'.format(tempo))\n",
    "\n",
    "# 4. Convert the frame indices of beat events into timestamps\n",
    "beat_times = librosa.frames_to_time(beat_frames, sr=sr)\n",
    "\n",
    "print(\"Minimum : \",min(beat_times))\n",
    "print(\"Maximum : \",max(beat_times))\n",
    "print(\"Average : \",sum(beat_times)/len(beat_times))\n",
    "beat_times"
   ]
  },
  {
   "cell_type": "markdown",
   "metadata": {},
   "source": [
    "#### MFCC "
   ]
  },
  {
   "cell_type": "code",
   "execution_count": 10,
   "metadata": {},
   "outputs": [
    {
     "name": "stdout",
     "output_type": "stream",
     "text": [
      "(20,)\n",
      "2\n"
     ]
    },
    {
     "data": {
      "text/plain": [
       "(20, 157)"
      ]
     },
     "execution_count": 10,
     "metadata": {},
     "output_type": "execute_result"
    }
   ],
   "source": [
    "Mfcc = librosa.feature.mfcc(y=x, sr=sr)\n",
    "Mfcc_max = (librosa.feature.mfcc(y=x, sr=sr)).sum(axis=1)\n",
    "\n",
    "print(Mfcc_max.shape)\n",
    "Mfcc_max = np.array(Mfcc_max)\n",
    "Mfcc_index_min = np.argmax(Mfcc_max)\n",
    "print(Mfcc_index_min+1)\n",
    "Mfcc.shape\n",
    "# print(\"Minimum : \",Mfcc.min(axis=0))\n",
    "# print(\"Maximum : \",max(Mfcc))\n",
    "# print(\"Average : \",sum(Mfcc)/len(Mfcc))\n"
   ]
  },
  {
   "cell_type": "markdown",
   "metadata": {},
   "source": [
    "#### Zero Crossing "
   ]
  },
  {
   "cell_type": "code",
   "execution_count": 11,
   "metadata": {},
   "outputs": [
    {
     "name": "stdout",
     "output_type": "stream",
     "text": [
      "42.42041015625\n"
     ]
    }
   ],
   "source": [
    "print(librosa.feature.zero_crossing_rate(x).sum())"
   ]
  },
  {
   "cell_type": "markdown",
   "metadata": {},
   "source": [
    "#### Spectral roll off "
   ]
  },
  {
   "cell_type": "code",
   "execution_count": 12,
   "metadata": {},
   "outputs": [
    {
     "name": "stdout",
     "output_type": "stream",
     "text": [
      "762942.919921875\n"
     ]
    }
   ],
   "source": [
    "S, phase = librosa.magphase(librosa.stft(x))\n",
    "print(librosa.feature.spectral_rolloff(S=S, sr=sr).sum()/len(librosa.feature.spectral_rolloff(S=S, sr=sr)))"
   ]
  },
  {
   "cell_type": "markdown",
   "metadata": {},
   "source": [
    "#### Chroma "
   ]
  },
  {
   "cell_type": "code",
   "execution_count": 13,
   "metadata": {},
   "outputs": [
    {
     "name": "stdout",
     "output_type": "stream",
     "text": [
      "[57.64264  57.175594 53.602493 61.819546 61.21636  68.56044  66.108826\n",
      " 73.06058  70.348015 63.97863  58.649815 52.137665]\n",
      "8\n"
     ]
    }
   ],
   "source": [
    "import numpy as np\n",
    "\n",
    "chroma_axis_max = librosa.feature.chroma_stft(y=x, sr=sr).sum(axis=1)\n",
    "print(chroma_axis_max)\n",
    "chroma_axis_max = np.array(chroma_axis_max)\n",
    "index_min = np.argmax(chroma_axis_max)\n",
    "print(index_min+1)\n",
    "# print(chroma_axis_max.index(max(chroma_axis_max)))"
   ]
  },
  {
   "cell_type": "markdown",
   "metadata": {},
   "source": [
    "#### Pitch "
   ]
  },
  {
   "cell_type": "code",
   "execution_count": 14,
   "metadata": {},
   "outputs": [
    {
     "name": "stdout",
     "output_type": "stream",
     "text": [
      "maximum pitch is:  240588.94\n",
      "average pitch is:  46928.9076433121\n"
     ]
    }
   ],
   "source": [
    "pitches, magnitudes = librosa.piptrack(y=x, sr=sr)\n",
    "# print(pitches.sum(axis=0))\n",
    "print(\"maximum pitch is: \",max(pitches.sum(axis=0)))\n",
    "print(\"average pitch is: \",(pitches.sum())/len(pitches.sum(axis=0)))\n",
    "# print(magnitudes.shape)"
   ]
  },
  {
   "cell_type": "code",
   "execution_count": 15,
   "metadata": {},
   "outputs": [
    {
     "data": {
      "image/png": "[encoded data removed]",
      "text/plain": [
       "<Figure size 432x288 with 1 Axes>"
      ]
     },
     "metadata": {
      "needs_background": "light"
     },
     "output_type": "display_data"
    }
   ],
   "source": [
    "plt.plot(pitches)\n",
    "plt.show()"
   ]
  },
  {
   "cell_type": "code",
   "execution_count": 13,
   "metadata": {},
   "outputs": [],
   "source": [
    "# sr is sampling rate i.e. sample taken per second"
   ]
  },
  {
   "cell_type": "code",
   "execution_count": null,
   "metadata": {},
   "outputs": [],
   "source": []
  },
  {
   "cell_type": "markdown",
   "metadata": {},
   "source": [
    "#### Create Dataframe "
   ]
  },
  {
   "cell_type": "code",
   "execution_count": 16,
   "metadata": {},
   "outputs": [
    {
     "data": {
      "text/html": [
       "<div>\n",
       "<style scoped>\n",
       "    .dataframe tbody tr th:only-of-type {\n",
       "        vertical-align: middle;\n",
       "    }\n",
       "\n",
       "    .dataframe tbody tr th {\n",
       "        vertical-align: top;\n",
       "    }\n",
       "\n",
       "    .dataframe thead th {\n",
       "        text-align: right;\n",
       "    }\n",
       "</style>\n",
       "<table border=\"1\" class=\"dataframe\">\n",
       "  <thead>\n",
       "    <tr style=\"text-align: right;\">\n",
       "      <th></th>\n",
       "      <th>Tempo</th>\n",
       "      <th>beat_frame_min</th>\n",
       "      <th>beat_frame_max</th>\n",
       "      <th>beat_frame_average</th>\n",
       "      <th>max_loudness</th>\n",
       "      <th>avg_loudness</th>\n",
       "      <th>MCFF</th>\n",
       "      <th>Zero_crossong_sum</th>\n",
       "      <th>Spectral-roll off_max</th>\n",
       "      <th>Spectral-roll off_avg</th>\n",
       "      <th>Chroma</th>\n",
       "      <th>Max_Pitch</th>\n",
       "      <th>Avg_Pitch</th>\n",
       "      <th>Emotion_label</th>\n",
       "    </tr>\n",
       "  </thead>\n",
       "  <tbody>\n",
       "  </tbody>\n",
       "</table>\n",
       "</div>"
      ],
      "text/plain": [
       "Empty DataFrame\n",
       "Columns: [Tempo, beat_frame_min, beat_frame_max, beat_frame_average, max_loudness, avg_loudness, MCFF, Zero_crossong_sum, Spectral-roll off_max, Spectral-roll off_avg, Chroma, Max_Pitch, Avg_Pitch, Emotion_label]\n",
       "Index: []"
      ]
     },
     "execution_count": 16,
     "metadata": {},
     "output_type": "execute_result"
    }
   ],
   "source": [
    "# Import pandas library\n",
    "import pandas as pd\n",
    "\n",
    "# initialize list of lists\n",
    "# data = [['tom', 10], ['nick', 15], ['juli', 14]]\n",
    "\n",
    "data =[]\n",
    "\n",
    "# Create the pandas DataFrame\n",
    "df = pd.DataFrame(data, columns = ['Tempo', 'beat_frame_min', 'beat_frame_max', 'beat_frame_average', 'max_loudness', 'avg_loudness', 'MCFF', 'Zero_crossong_sum', 'Spectral-roll off_max', 'Spectral-roll off_avg', 'Chroma', 'Max_Pitch', 'Avg_Pitch', 'Emotion_label'])\n",
    "\n",
    "# print dataframe.\n",
    "df\n"
   ]
  },
  {
   "cell_type": "code",
   "execution_count": 26,
   "metadata": {},
   "outputs": [],
   "source": [
    "def give_emotion(string):\n",
    "    x = string.split(\"-\")\n",
    "    if(int(x[2])==1):\n",
    "        emotion = \"neutral\"\n",
    "    elif(int(x[2])==2):\n",
    "        emotion = \"calm\"\n",
    "    elif(int(x[2])==3):\n",
    "        emotion = \"happy\"\n",
    "    elif(int(x[2])==4):\n",
    "        emotion = \"sad\"\n",
    "    elif(int(x[2])==5):\n",
    "        emotion = \"angry\"\n",
    "    elif(int(x[2])==6):\n",
    "        emotion = \"fearful\"\n",
    "    elif(int(x[2])==7):\n",
    "        emotion = \"disgust\"\n",
    "    elif(int(x[2])==8):\n",
    "        emotion = \"surprised\"\n",
    "    return emotion"
   ]
  },
  {
   "cell_type": "code",
   "execution_count": null,
   "metadata": {},
   "outputs": [],
   "source": []
  },
  {
   "cell_type": "markdown",
   "metadata": {},
   "source": [
    "#### Getting all the audio files "
   ]
  },
  {
   "cell_type": "code",
   "execution_count": 28,
   "metadata": {},
   "outputs": [
    {
     "data": {
      "text/html": [
       "<style>\n",
       ".enlighten-fg-red {\n",
       "  color: #cd0000;\n",
       "}\n",
       ".enlighten-fg-blue {\n",
       "  color: #0000ee;\n",
       "}\n",
       "</style>\n",
       "<div class=\"enlighten\">\n",
       "  <div class=\"enlighten-bar\">\n",
       "    <pre>Progress for Actor 100%|<span class=\"enlighten-fg-red\">█████████████████████████████████████████</span>| 24/24 [03:32&lt;00:00, 0.11 actor/s]</pre>\n",
       "  </div>\n",
       "  <div class=\"enlighten-bar\">\n",
       "    <pre>Progress for Audio 100%|<span class=\"enlighten-fg-blue\">█████████████████████████████████████</span>| 1440/1440 [03:32&lt;00:00, 6.79 audio/s]</pre>\n",
       "  </div>\n",
       "</div>\n"
      ],
      "text/plain": [
       "<IPython.core.display.HTML object>"
      ]
     },
     "metadata": {},
     "output_type": "display_data"
    },
    {
     "name": "stdout",
     "output_type": "stream",
     "text": [
      "Progress: Actor 24 Audio 60 |██████████████████████████████████████████████████| 100.0% Complete\r"
     ]
    }
   ],
   "source": [
    "import os\n",
    "from tqdm import trange\n",
    " \n",
    "# Get the list of all files and directories\n",
    "# path = r'F:\\Dataset for Lab Project\\archive (2)\\Actor_01'\n",
    "# path = 'C:\\Users\\user\\OneDrive\\Desktop\\archive (2)\\Actor_01'\n",
    "# dir_list = os.listdir(path)\n",
    " \n",
    "# print(\"Files and directories in '\", path, \"' :\")\n",
    "\n",
    "x = []\n",
    "sr = []\n",
    "all_filenames = []\n",
    "\n",
    "f_path = r'C:\\Users\\user\\OneDrive\\Desktop\\archive (2)'\n",
    "f_dir_list = os.listdir(f_path)\n",
    "\n",
    "# Initial call to print 0% progress\n",
    "# printProgressBar(0, l, prefix = 'Progress:', suffix = 'Complete', length = 50)\n",
    "\n",
    "manager = enlighten.get_manager()\n",
    "ticks = manager.counter(total=len(f_dir_list), desc=\"Progress for Actor\", unit=\"actor\", color=\"red\")\n",
    "tocks = manager.counter(total=24*60, desc=\"Progress for Audio\", unit=\"audio\", color=\"blue\")\n",
    "actor = 0\n",
    "for i, folders in enumerate(f_dir_list):\n",
    "      \n",
    "    dir_list = os.path.join(f_path, folders)\n",
    "\n",
    "    dir_list1 = os.listdir(dir_list)\n",
    "    actor = actor+ 1\n",
    "    \n",
    "   \n",
    "    for j, audio_file in enumerate(dir_list1):\n",
    "        printProgressBar(j + 1,len(dir_list1), prefix = 'Progress: Actor '+str(i+1)+' Audio '+str(j+1), suffix = 'Complete', length = 50)\n",
    "\n",
    "        tocks.update()\n",
    "        if(j==len(dir_list1)-1):\n",
    "            ticks.update()\n",
    "        row = []\n",
    "        \n",
    "#         print(\"number of audio : \",a, \"Actor : \",actor)\n",
    "\n",
    "        \n",
    "        filename = os.path.join(dir_list, audio_file)\n",
    "        x , sr = librosa.load(filename)\n",
    "        \n",
    "#         TEMPO AND BEAT_FRAME\n",
    "        tempo, beat_frames = librosa.beat.beat_track(y=x, sr=sr)\n",
    "        row.append(tempo)                                                 #1\n",
    "        \n",
    "        beat_times = librosa.frames_to_time(beat_frames, sr=sr)\n",
    "        row.append(min(beat_times))                                       #2\n",
    "        row.append(max(beat_times))                                       #3\n",
    "        row.append(sum(beat_times)/len(beat_times))                       #4\n",
    "        \n",
    "#         LOUDNESS\n",
    "        max_loudness = max(x)\n",
    "        avg_loudness = sum(x)/len(x)\n",
    "        row.append(max_loudness)                                          #5\n",
    "        row.append(avg_loudness)                                          #6\n",
    "        \n",
    "#         MCFF\n",
    "        Mfcc = librosa.feature.mfcc(y=x, sr=sr)\n",
    "        Mfcc_max = (librosa.feature.mfcc(y=x, sr=sr)).sum(axis=1)\n",
    "        Mfcc_max = np.array(Mfcc_max)\n",
    "        Mfcc_index_min = np.argmax(Mfcc_max)\n",
    "        row.append(Mfcc_index_min+1)                                      #7\n",
    "        \n",
    "#         ZERO CROSSING SUM\n",
    "        row.append(librosa.feature.zero_crossing_rate(x).sum())           #8\n",
    "            \n",
    "#         SPECTRAL-ROLL OFF_SUM\n",
    "        S, phase = librosa.magphase(librosa.stft(x))\n",
    "        row.append(librosa.feature.spectral_rolloff(S=S, sr=sr).max())    #9\n",
    "        row.append(librosa.feature.spectral_rolloff(S=S, sr=sr).sum()/len(librosa.feature.spectral_rolloff(S=S, sr=sr)))\n",
    "                                                                          #10\n",
    "#         CHROMA\n",
    "        chroma_axis_max = librosa.feature.chroma_stft(y=x, sr=sr).sum(axis=1)\n",
    "        chroma_axis_max = np.array(chroma_axis_max)\n",
    "        index_min = np.argmax(chroma_axis_max)\n",
    "        row.append(index_min+1)                                           #11\n",
    "        \n",
    "#         PITCH\n",
    "        pitches, magnitudes = librosa.piptrack(y=x, sr=sr)\n",
    "        row.append(max(pitches.sum(axis=0)))                              #12\n",
    "        row.append((pitches.sum())/len(pitches.sum(axis=0)))              #13\n",
    "        \n",
    "#         EMOTION OF AUDIO\n",
    "        audio = str(audio_file)\n",
    "        emotion = give_emotion(audio)\n",
    "        row.append(emotion)                                               #14\n",
    "    \n",
    "        df.loc[len(df.index)] = row\n"
   ]
  },
  {
   "cell_type": "code",
   "execution_count": 29,
   "metadata": {},
   "outputs": [
    {
     "data": {
      "text/html": [
       "<div>\n",
       "<style scoped>\n",
       "    .dataframe tbody tr th:only-of-type {\n",
       "        vertical-align: middle;\n",
       "    }\n",
       "\n",
       "    .dataframe tbody tr th {\n",
       "        vertical-align: top;\n",
       "    }\n",
       "\n",
       "    .dataframe thead th {\n",
       "        text-align: right;\n",
       "    }\n",
       "</style>\n",
       "<table border=\"1\" class=\"dataframe\">\n",
       "  <thead>\n",
       "    <tr style=\"text-align: right;\">\n",
       "      <th></th>\n",
       "      <th>Tempo</th>\n",
       "      <th>beat_frame_min</th>\n",
       "      <th>beat_frame_max</th>\n",
       "      <th>beat_frame_average</th>\n",
       "      <th>max_loudness</th>\n",
       "      <th>avg_loudness</th>\n",
       "      <th>MCFF</th>\n",
       "      <th>Zero_crossong_sum</th>\n",
       "      <th>Spectral-roll off_max</th>\n",
       "      <th>Spectral-roll off_avg</th>\n",
       "      <th>Chroma</th>\n",
       "      <th>Max_Pitch</th>\n",
       "      <th>Avg_Pitch</th>\n",
       "      <th>Emotion_label</th>\n",
       "    </tr>\n",
       "  </thead>\n",
       "  <tbody>\n",
       "    <tr>\n",
       "      <th>0</th>\n",
       "      <td>80.749512</td>\n",
       "      <td>0.301859</td>\n",
       "      <td>1.044898</td>\n",
       "      <td>0.673379</td>\n",
       "      <td>0.041009</td>\n",
       "      <td>9.149964e-07</td>\n",
       "      <td>2</td>\n",
       "      <td>53.297852</td>\n",
       "      <td>10174.438477</td>\n",
       "      <td>905245.092773</td>\n",
       "      <td>1</td>\n",
       "      <td>347081.406250</td>\n",
       "      <td>71977.090909</td>\n",
       "      <td>neutral</td>\n",
       "    </tr>\n",
       "    <tr>\n",
       "      <th>1</th>\n",
       "      <td>161.499023</td>\n",
       "      <td>0.673379</td>\n",
       "      <td>1.416417</td>\n",
       "      <td>1.044898</td>\n",
       "      <td>0.047185</td>\n",
       "      <td>7.137630e-07</td>\n",
       "      <td>2</td>\n",
       "      <td>54.799316</td>\n",
       "      <td>9183.911133</td>\n",
       "      <td>898149.902344</td>\n",
       "      <td>10</td>\n",
       "      <td>283542.406250</td>\n",
       "      <td>66840.236111</td>\n",
       "      <td>neutral</td>\n",
       "    </tr>\n",
       "    <tr>\n",
       "      <th>2</th>\n",
       "      <td>80.749512</td>\n",
       "      <td>0.301859</td>\n",
       "      <td>1.044898</td>\n",
       "      <td>0.673379</td>\n",
       "      <td>0.058744</td>\n",
       "      <td>9.554769e-07</td>\n",
       "      <td>2</td>\n",
       "      <td>56.276367</td>\n",
       "      <td>9270.043945</td>\n",
       "      <td>871448.730469</td>\n",
       "      <td>2</td>\n",
       "      <td>271150.187500</td>\n",
       "      <td>71985.574468</td>\n",
       "      <td>neutral</td>\n",
       "    </tr>\n",
       "    <tr>\n",
       "      <th>3</th>\n",
       "      <td>64.599609</td>\n",
       "      <td>0.116100</td>\n",
       "      <td>1.044898</td>\n",
       "      <td>0.580499</td>\n",
       "      <td>0.061837</td>\n",
       "      <td>9.176384e-07</td>\n",
       "      <td>2</td>\n",
       "      <td>54.379395</td>\n",
       "      <td>9280.810547</td>\n",
       "      <td>844672.192383</td>\n",
       "      <td>1</td>\n",
       "      <td>290874.531250</td>\n",
       "      <td>66853.124088</td>\n",
       "      <td>neutral</td>\n",
       "    </tr>\n",
       "    <tr>\n",
       "      <th>4</th>\n",
       "      <td>117.453835</td>\n",
       "      <td>0.534059</td>\n",
       "      <td>1.555737</td>\n",
       "      <td>1.044898</td>\n",
       "      <td>0.026036</td>\n",
       "      <td>8.108787e-07</td>\n",
       "      <td>2</td>\n",
       "      <td>54.618652</td>\n",
       "      <td>9291.577148</td>\n",
       "      <td>928716.284180</td>\n",
       "      <td>11</td>\n",
       "      <td>290550.937500</td>\n",
       "      <td>76162.947712</td>\n",
       "      <td>calm</td>\n",
       "    </tr>\n",
       "    <tr>\n",
       "      <th>...</th>\n",
       "      <td>...</td>\n",
       "      <td>...</td>\n",
       "      <td>...</td>\n",
       "      <td>...</td>\n",
       "      <td>...</td>\n",
       "      <td>...</td>\n",
       "      <td>...</td>\n",
       "      <td>...</td>\n",
       "      <td>...</td>\n",
       "      <td>...</td>\n",
       "      <td>...</td>\n",
       "      <td>...</td>\n",
       "      <td>...</td>\n",
       "      <td>...</td>\n",
       "    </tr>\n",
       "    <tr>\n",
       "      <th>2875</th>\n",
       "      <td>80.749512</td>\n",
       "      <td>0.278639</td>\n",
       "      <td>1.021678</td>\n",
       "      <td>0.650159</td>\n",
       "      <td>0.116322</td>\n",
       "      <td>-5.006840e-08</td>\n",
       "      <td>2</td>\n",
       "      <td>45.407227</td>\n",
       "      <td>8893.212891</td>\n",
       "      <td>809616.137695</td>\n",
       "      <td>12</td>\n",
       "      <td>226855.312500</td>\n",
       "      <td>74147.000000</td>\n",
       "      <td>surprised</td>\n",
       "    </tr>\n",
       "    <tr>\n",
       "      <th>2876</th>\n",
       "      <td>135.999178</td>\n",
       "      <td>0.603719</td>\n",
       "      <td>2.321995</td>\n",
       "      <td>1.472145</td>\n",
       "      <td>0.247812</td>\n",
       "      <td>-5.587031e-08</td>\n",
       "      <td>2</td>\n",
       "      <td>47.262695</td>\n",
       "      <td>10034.472656</td>\n",
       "      <td>962674.145508</td>\n",
       "      <td>1</td>\n",
       "      <td>205785.562500</td>\n",
       "      <td>71328.188235</td>\n",
       "      <td>surprised</td>\n",
       "    </tr>\n",
       "    <tr>\n",
       "      <th>2877</th>\n",
       "      <td>184.570312</td>\n",
       "      <td>0.743039</td>\n",
       "      <td>1.671837</td>\n",
       "      <td>1.207438</td>\n",
       "      <td>0.163341</td>\n",
       "      <td>1.819323e-07</td>\n",
       "      <td>2</td>\n",
       "      <td>48.267090</td>\n",
       "      <td>10798.901367</td>\n",
       "      <td>940645.678711</td>\n",
       "      <td>1</td>\n",
       "      <td>241406.843750</td>\n",
       "      <td>84035.401163</td>\n",
       "      <td>surprised</td>\n",
       "    </tr>\n",
       "    <tr>\n",
       "      <th>2878</th>\n",
       "      <td>143.554688</td>\n",
       "      <td>0.603719</td>\n",
       "      <td>1.462857</td>\n",
       "      <td>1.029418</td>\n",
       "      <td>0.250467</td>\n",
       "      <td>-6.728981e-06</td>\n",
       "      <td>2</td>\n",
       "      <td>38.463379</td>\n",
       "      <td>10745.068359</td>\n",
       "      <td>975766.333008</td>\n",
       "      <td>12</td>\n",
       "      <td>236807.125000</td>\n",
       "      <td>53915.037736</td>\n",
       "      <td>surprised</td>\n",
       "    </tr>\n",
       "    <tr>\n",
       "      <th>2879</th>\n",
       "      <td>46.981534</td>\n",
       "      <td>1.021678</td>\n",
       "      <td>1.021678</td>\n",
       "      <td>1.021678</td>\n",
       "      <td>0.230290</td>\n",
       "      <td>-1.079798e-07</td>\n",
       "      <td>2</td>\n",
       "      <td>39.687012</td>\n",
       "      <td>9689.941406</td>\n",
       "      <td>905223.559570</td>\n",
       "      <td>1</td>\n",
       "      <td>236461.640625</td>\n",
       "      <td>42363.939490</td>\n",
       "      <td>surprised</td>\n",
       "    </tr>\n",
       "  </tbody>\n",
       "</table>\n",
       "<p>2880 rows × 14 columns</p>\n",
       "</div>"
      ],
      "text/plain": [
       "           Tempo  beat_frame_min  beat_frame_max  beat_frame_average  \\\n",
       "0      80.749512        0.301859        1.044898            0.673379   \n",
       "1     161.499023        0.673379        1.416417            1.044898   \n",
       "2      80.749512        0.301859        1.044898            0.673379   \n",
       "3      64.599609        0.116100        1.044898            0.580499   \n",
       "4     117.453835        0.534059        1.555737            1.044898   \n",
       "...          ...             ...             ...                 ...   \n",
       "2875   80.749512        0.278639        1.021678            0.650159   \n",
       "2876  135.999178        0.603719        2.321995            1.472145   \n",
       "2877  184.570312        0.743039        1.671837            1.207438   \n",
       "2878  143.554688        0.603719        1.462857            1.029418   \n",
       "2879   46.981534        1.021678        1.021678            1.021678   \n",
       "\n",
       "      max_loudness  avg_loudness  MCFF  Zero_crossong_sum  \\\n",
       "0         0.041009  9.149964e-07     2          53.297852   \n",
       "1         0.047185  7.137630e-07     2          54.799316   \n",
       "2         0.058744  9.554769e-07     2          56.276367   \n",
       "3         0.061837  9.176384e-07     2          54.379395   \n",
       "4         0.026036  8.108787e-07     2          54.618652   \n",
       "...            ...           ...   ...                ...   \n",
       "2875      0.116322 -5.006840e-08     2          45.407227   \n",
       "2876      0.247812 -5.587031e-08     2          47.262695   \n",
       "2877      0.163341  1.819323e-07     2          48.267090   \n",
       "2878      0.250467 -6.728981e-06     2          38.463379   \n",
       "2879      0.230290 -1.079798e-07     2          39.687012   \n",
       "\n",
       "      Spectral-roll off_max  Spectral-roll off_avg  Chroma      Max_Pitch  \\\n",
       "0              10174.438477          905245.092773       1  347081.406250   \n",
       "1               9183.911133          898149.902344      10  283542.406250   \n",
       "2               9270.043945          871448.730469       2  271150.187500   \n",
       "3               9280.810547          844672.192383       1  290874.531250   \n",
       "4               9291.577148          928716.284180      11  290550.937500   \n",
       "...                     ...                    ...     ...            ...   \n",
       "2875            8893.212891          809616.137695      12  226855.312500   \n",
       "2876           10034.472656          962674.145508       1  205785.562500   \n",
       "2877           10798.901367          940645.678711       1  241406.843750   \n",
       "2878           10745.068359          975766.333008      12  236807.125000   \n",
       "2879            9689.941406          905223.559570       1  236461.640625   \n",
       "\n",
       "         Avg_Pitch Emotion_label  \n",
       "0     71977.090909       neutral  \n",
       "1     66840.236111       neutral  \n",
       "2     71985.574468       neutral  \n",
       "3     66853.124088       neutral  \n",
       "4     76162.947712          calm  \n",
       "...            ...           ...  \n",
       "2875  74147.000000     surprised  \n",
       "2876  71328.188235     surprised  \n",
       "2877  84035.401163     surprised  \n",
       "2878  53915.037736     surprised  \n",
       "2879  42363.939490     surprised  \n",
       "\n",
       "[2880 rows x 14 columns]"
      ]
     },
     "execution_count": 29,
     "metadata": {},
     "output_type": "execute_result"
    }
   ],
   "source": [
    "df"
   ]
  },
  {
   "cell_type": "code",
   "execution_count": 30,
   "metadata": {},
   "outputs": [],
   "source": [
    "dataset = df\n",
    "# dataset"
   ]
  },
  {
   "cell_type": "code",
   "execution_count": null,
   "metadata": {},
   "outputs": [],
   "source": []
  },
  {
   "cell_type": "code",
   "execution_count": 31,
   "metadata": {},
   "outputs": [
    {
     "name": "stdout",
     "output_type": "stream",
     "text": [
      "Empty DataFrame\n",
      "Columns: [Tempo, beat_frame_min, beat_frame_max, beat_frame_average, max_loudness, avg_loudness, MCFF, Zero_crossong_sum, Spectral-roll off_max, Spectral-roll off_avg, Chroma, Max_Pitch, Avg_Pitch, Emotion_label]\n",
      "Index: [] \n",
      " Empty DataFrame\n",
      "Columns: [Tempo, beat_frame_min, beat_frame_max, beat_frame_average, max_loudness, avg_loudness, MCFF, Zero_crossong_sum, Spectral-roll off_max, Spectral-roll off_avg, Chroma, Max_Pitch, Avg_Pitch, Emotion_label]\n",
      "Index: []\n"
     ]
    }
   ],
   "source": [
    "data =[]\n",
    "\n",
    "# Create the pandas DataFrame\n",
    "training_data = pd.DataFrame(data, columns = ['Tempo', 'beat_frame_min', 'beat_frame_max', 'beat_frame_average', 'max_loudness', 'avg_loudness', 'MCFF', 'Zero_crossong_sum', 'Spectral-roll off_max', 'Spectral-roll off_avg', 'Chroma', 'Max_Pitch', 'Avg_Pitch', 'Emotion_label'])\n",
    "\n",
    "testing_data = pd.DataFrame(data, columns = ['Tempo', 'beat_frame_min', 'beat_frame_max', 'beat_frame_average', 'max_loudness', 'avg_loudness', 'MCFF', 'Zero_crossong_sum', 'Spectral-roll off_max', 'Spectral-roll off_avg', 'Chroma', 'Max_Pitch', 'Avg_Pitch', 'Emotion_label'])\n",
    "print(training_data,'\\n',testing_data)"
   ]
  },
  {
   "cell_type": "markdown",
   "metadata": {},
   "source": [
    "### Perform Operations on Dataset using dummy data only "
   ]
  },
  {
   "cell_type": "markdown",
   "metadata": {},
   "source": [
    "####  Emotion_label-> neutral"
   ]
  },
  {
   "cell_type": "code",
   "execution_count": 33,
   "metadata": {},
   "outputs": [
    {
     "name": "stdout",
     "output_type": "stream",
     "text": [
      "['neutral']\n",
      "(192, 14)\n"
     ]
    }
   ],
   "source": [
    "data_neutral = dataset[dataset['Emotion_label']==\"neutral\"]\n",
    "print(data_neutral.Emotion_label.unique())\n",
    "print(data_neutral.shape)\n",
    "training_data = pd.concat([training_data, data_neutral[:67]])\n",
    "testing_data = pd.concat([testing_data, data_neutral[67:]])"
   ]
  },
  {
   "cell_type": "markdown",
   "metadata": {},
   "source": [
    "#### Emotion_label-> calm "
   ]
  },
  {
   "cell_type": "code",
   "execution_count": 34,
   "metadata": {},
   "outputs": [
    {
     "name": "stdout",
     "output_type": "stream",
     "text": [
      "['calm']\n",
      "(384, 14)\n"
     ]
    }
   ],
   "source": [
    "data_calm = dataset[dataset['Emotion_label']==\"calm\"]\n",
    "print(data_calm.Emotion_label.unique())\n",
    "print(data_calm.shape)\n",
    "training_data = pd.concat([training_data, data_calm[:134]])\n",
    "testing_data = pd.concat([testing_data, data_calm[134:]])"
   ]
  },
  {
   "cell_type": "markdown",
   "metadata": {},
   "source": [
    "#### Emotion_label-> happy  "
   ]
  },
  {
   "cell_type": "code",
   "execution_count": 35,
   "metadata": {},
   "outputs": [
    {
     "name": "stdout",
     "output_type": "stream",
     "text": [
      "['happy']\n",
      "(384, 14)\n"
     ]
    }
   ],
   "source": [
    "data_happy = dataset[dataset['Emotion_label']==\"happy\"]\n",
    "print(data_happy.Emotion_label.unique())\n",
    "print(data_happy.shape)\n",
    "training_data = pd.concat([training_data, data_happy[:134]])\n",
    "testing_data = pd.concat([testing_data, data_happy[134:]])"
   ]
  },
  {
   "cell_type": "markdown",
   "metadata": {},
   "source": [
    "####  Emotion_label-> sad"
   ]
  },
  {
   "cell_type": "code",
   "execution_count": 36,
   "metadata": {},
   "outputs": [
    {
     "name": "stdout",
     "output_type": "stream",
     "text": [
      "['sad']\n",
      "(384, 14)\n"
     ]
    }
   ],
   "source": [
    "data_sad = dataset[dataset['Emotion_label']==\"sad\"]\n",
    "print(data_sad.Emotion_label.unique())\n",
    "print(data_sad.shape)\n",
    "training_data = pd.concat([training_data, data_sad[:134]])\n",
    "testing_data = pd.concat([testing_data, data_sad[134:]])"
   ]
  },
  {
   "cell_type": "markdown",
   "metadata": {},
   "source": [
    "#### Emotion_label-> angry "
   ]
  },
  {
   "cell_type": "code",
   "execution_count": 37,
   "metadata": {},
   "outputs": [
    {
     "name": "stdout",
     "output_type": "stream",
     "text": [
      "['angry']\n",
      "(384, 14)\n"
     ]
    }
   ],
   "source": [
    "data_angry = dataset[dataset['Emotion_label']==\"angry\"]\n",
    "print(data_angry.Emotion_label.unique())\n",
    "print(data_angry.shape)\n",
    "training_data = pd.concat([training_data, data_angry[:134]])\n",
    "testing_data = pd.concat([testing_data, data_angry[134:]])"
   ]
  },
  {
   "cell_type": "markdown",
   "metadata": {},
   "source": [
    "#### Emotion_label-> fearful"
   ]
  },
  {
   "cell_type": "code",
   "execution_count": 38,
   "metadata": {},
   "outputs": [
    {
     "name": "stdout",
     "output_type": "stream",
     "text": [
      "['fearful']\n",
      "(384, 14)\n"
     ]
    }
   ],
   "source": [
    "data_fearful = dataset[dataset['Emotion_label']==\"fearful\"]\n",
    "print(data_fearful.Emotion_label.unique())\n",
    "print(data_fearful.shape)\n",
    "training_data = pd.concat([training_data, data_fearful[:134]])\n",
    "testing_data = pd.concat([testing_data, data_fearful[134:]])"
   ]
  },
  {
   "cell_type": "markdown",
   "metadata": {},
   "source": [
    "####  Emotion_label-> disgust"
   ]
  },
  {
   "cell_type": "code",
   "execution_count": 39,
   "metadata": {},
   "outputs": [
    {
     "name": "stdout",
     "output_type": "stream",
     "text": [
      "['disgust']\n",
      "(384, 14)\n"
     ]
    }
   ],
   "source": [
    "data_disgust = dataset[dataset['Emotion_label']==\"disgust\"]\n",
    "print(data_disgust.Emotion_label.unique())\n",
    "print(data_disgust.shape)\n",
    "training_data = pd.concat([training_data, data_disgust[:134]])\n",
    "testing_data = pd.concat([testing_data, data_disgust[134:]])"
   ]
  },
  {
   "cell_type": "markdown",
   "metadata": {},
   "source": [
    "#### Emotion_label-> surprised "
   ]
  },
  {
   "cell_type": "code",
   "execution_count": 40,
   "metadata": {},
   "outputs": [
    {
     "name": "stdout",
     "output_type": "stream",
     "text": [
      "['surprised']\n",
      "(384, 14)\n"
     ]
    }
   ],
   "source": [
    "data_surprised = dataset[dataset['Emotion_label']==\"surprised\"]\n",
    "print(data_surprised.Emotion_label.unique())\n",
    "print(data_surprised.shape)\n",
    "training_data = pd.concat([training_data, data_surprised[:134]])\n",
    "testing_data = pd.concat([testing_data, data_surprised[134:]])"
   ]
  },
  {
   "cell_type": "markdown",
   "metadata": {},
   "source": [
    "#### Checking Data is processed properly or not "
   ]
  },
  {
   "cell_type": "code",
   "execution_count": 41,
   "metadata": {},
   "outputs": [
    {
     "data": {
      "text/plain": [
       "(1072, 14)"
      ]
     },
     "execution_count": 41,
     "metadata": {},
     "output_type": "execute_result"
    }
   ],
   "source": [
    "training_data.shape"
   ]
  },
  {
   "cell_type": "code",
   "execution_count": 42,
   "metadata": {},
   "outputs": [
    {
     "data": {
      "text/plain": [
       "(2000, 14)"
      ]
     },
     "execution_count": 42,
     "metadata": {},
     "output_type": "execute_result"
    }
   ],
   "source": [
    "testing_data.shape"
   ]
  },
  {
   "cell_type": "code",
   "execution_count": 43,
   "metadata": {},
   "outputs": [
    {
     "data": {
      "text/plain": [
       "array(['neutral', 'calm', 'happy', 'sad', 'angry', 'fearful', 'disgust',\n",
       "       'surprised'], dtype=object)"
      ]
     },
     "execution_count": 43,
     "metadata": {},
     "output_type": "execute_result"
    }
   ],
   "source": [
    "(training_data.Emotion_label.unique())"
   ]
  },
  {
   "cell_type": "code",
   "execution_count": 44,
   "metadata": {},
   "outputs": [
    {
     "data": {
      "text/plain": [
       "array(['neutral', 'calm', 'happy', 'sad', 'angry', 'fearful', 'disgust',\n",
       "       'surprised'], dtype=object)"
      ]
     },
     "execution_count": 44,
     "metadata": {},
     "output_type": "execute_result"
    }
   ],
   "source": [
    "(testing_data.Emotion_label.unique())"
   ]
  },
  {
   "cell_type": "markdown",
   "metadata": {},
   "source": [
    "#### Suffling the Data "
   ]
  },
  {
   "cell_type": "code",
   "execution_count": 50,
   "metadata": {
    "scrolled": true
   },
   "outputs": [
    {
     "name": "stdout",
     "output_type": "stream",
     "text": [
      "Data Before Suffling...\n",
      "         Tempo  beat_frame_min  beat_frame_max  beat_frame_average  \\\n",
      "0    80.749512        0.301859        1.044898            0.673379   \n",
      "1   161.499023        0.673379        1.416417            1.044898   \n",
      "2    80.749512        0.301859        1.044898            0.673379   \n",
      "3    64.599609        0.116100        1.044898            0.580499   \n",
      "60  151.999081        0.650159        1.857596            1.248073   \n",
      "\n",
      "    max_loudness  avg_loudness MCFF  Zero_crossong_sum  Spectral-roll off_max  \\\n",
      "0       0.041009  9.149964e-07    2          53.297852           10174.438477   \n",
      "1       0.047185  7.137630e-07    2          54.799316            9183.911133   \n",
      "2       0.058744  9.554769e-07    2          56.276367            9270.043945   \n",
      "3       0.061837  9.176384e-07    2          54.379395            9280.810547   \n",
      "60      0.076417 -2.291768e-07    2          42.420410            9593.041992   \n",
      "\n",
      "    Spectral-roll off_avg Chroma     Max_Pitch     Avg_Pitch Emotion_label  \n",
      "0           905245.092773      1  347081.40625  71977.090909       neutral  \n",
      "1           898149.902344     10  283542.40625  66840.236111       neutral  \n",
      "2           871448.730469      2  271150.18750  71985.574468       neutral  \n",
      "3           844672.192383      1  290874.53125  66853.124088       neutral  \n",
      "60          762942.919922      8  240588.93750  46928.907643       neutral  \n",
      "           Tempo  beat_frame_min  beat_frame_max  beat_frame_average  \\\n",
      "963   112.347147        0.534059        1.602177            1.068118   \n",
      "1020  143.554688        0.603719        1.811156            1.213243   \n",
      "1021  143.554688        0.603719        1.857596            1.230658   \n",
      "1022   69.837416        0.185760        1.044898            0.615329   \n",
      "1023  107.666016        0.487619        1.602177            1.044898   \n",
      "\n",
      "      max_loudness  avg_loudness MCFF  Zero_crossong_sum  \\\n",
      "963       0.081260  2.714329e-06    2          25.509277   \n",
      "1020      0.014856 -1.695462e-06    2          39.282227   \n",
      "1021      0.019135 -8.364062e-07    2          36.926758   \n",
      "1022      0.019621 -1.723682e-06    2          38.140137   \n",
      "1023      0.017395 -2.374479e-07    2          49.233887   \n",
      "\n",
      "      Spectral-roll off_max  Spectral-roll off_avg Chroma     Max_Pitch  \\\n",
      "963             9808.374023          736790.844727      9  185101.09375   \n",
      "1020           10109.838867          895899.682617      6  362662.75000   \n",
      "1021           10788.134766          923289.916992      5  345164.25000   \n",
      "1022            9776.074219          960768.457031      4  344723.25000   \n",
      "1023            9797.607422          910660.693359      6  283661.56250   \n",
      "\n",
      "         Avg_Pitch Emotion_label  \n",
      "963   11257.975833       neutral  \n",
      "1020  82626.293333       neutral  \n",
      "1021  84472.581699       neutral  \n",
      "1022  91095.800000       neutral  \n",
      "1023  84983.886667       neutral  \n",
      "Data After Suffling...\n",
      "          Tempo  beat_frame_min  beat_frame_max  beat_frame_average  \\\n",
      "258  123.046875        0.510839        1.509297            1.013938   \n",
      "787  215.332031        0.743039        1.021678            0.882358   \n",
      "458  151.999081        0.650159        1.834376            1.242268   \n",
      "780  129.199219        0.557279        1.486077            1.021678   \n",
      "559  184.570312        1.184218        2.205896            1.706667   \n",
      "\n",
      "     max_loudness  avg_loudness MCFF  Zero_crossong_sum  \\\n",
      "258      0.153662  2.393966e-07    2          34.076172   \n",
      "787      0.030125 -1.186626e-06    2          52.959473   \n",
      "458      0.133663  2.660618e-05    2          26.385254   \n",
      "780      0.018408  5.429903e-07    2          42.971191   \n",
      "559      0.946251  3.704184e-07    2          30.671875   \n",
      "\n",
      "     Spectral-roll off_max  Spectral-roll off_avg Chroma      Max_Pitch  \\\n",
      "258            9043.945312           7.935093e+05      6  127797.312500   \n",
      "787            9948.339844           8.555034e+05      9  309744.562500   \n",
      "458           10174.438477           7.943814e+05      8  186625.296875   \n",
      "780           10734.301758           8.161299e+05      6  274031.500000   \n",
      "559            9248.510742           1.050271e+06      9  236504.234375   \n",
      "\n",
      "        Avg_Pitch Emotion_label  \n",
      "258  14089.660256         happy  \n",
      "787  82104.331126          calm  \n",
      "458  34175.619632       fearful  \n",
      "780  66085.860000       neutral  \n",
      "559  44219.421512         happy  \n",
      "           Tempo  beat_frame_min  beat_frame_max  beat_frame_average  \\\n",
      "1333   63.024009        0.092880        1.044898            0.568889   \n",
      "2716  151.999081        0.673379        1.904036            1.277098   \n",
      "1180  129.199219        0.557279        2.368435            1.462857   \n",
      "1150   53.833008        1.044898        1.044898            1.044898   \n",
      "1886   95.703125        0.417959        1.648617            1.037158   \n",
      "\n",
      "      max_loudness  avg_loudness MCFF  Zero_crossong_sum  \\\n",
      "1333      0.135842 -1.014366e-07    2          55.594727   \n",
      "2716      0.285936  3.555085e-08    2          55.353027   \n",
      "1180      0.808454 -2.807340e-05    2          40.889160   \n",
      "1150      0.005872  1.083804e-08    2          48.307617   \n",
      "1886      0.030666 -1.580098e-06    2          25.760742   \n",
      "\n",
      "      Spectral-roll off_max  Spectral-roll off_avg Chroma      Max_Pitch  \\\n",
      "1333           10056.005859           9.102085e+05      3  269676.843750   \n",
      "2716           10271.337891           9.547499e+05      8  229193.468750   \n",
      "1180            9948.339844           1.089462e+06     12  239822.656250   \n",
      "1150            9722.241211           8.167544e+05      9  258342.281250   \n",
      "1886            9582.275391           8.617157e+05      5  167330.765625   \n",
      "\n",
      "         Avg_Pitch Emotion_label  \n",
      "1333  56225.975177         happy  \n",
      "2716  68293.913043         happy  \n",
      "1180  89727.989071       fearful  \n",
      "1150  69534.254777          calm  \n",
      "1886  14351.479560           sad  \n"
     ]
    }
   ],
   "source": [
    "print(\"Data Before Suffling...\")\n",
    "print(training_data.head(5))\n",
    "print(testing_data.head(5))\n",
    "\n",
    "training_data = training_data.sample(frac=1)\n",
    "testing_data = testing_data.sample(frac=1)\n",
    "\n",
    "print(\"Data After Suffling...\")\n",
    "print(training_data.head(5))\n",
    "print(testing_data.head(5))"
   ]
  },
  {
   "cell_type": "markdown",
   "metadata": {},
   "source": [
    "#### Replacing Emotion with labels(numbers) \n",
    "#### Emotion (01 = neutral, 02 = calm, 03 = happy, 04 = sad, 05 = angry, 06 = fearful, 07 = disgust, 08 = surprised)"
   ]
  },
  {
   "cell_type": "code",
   "execution_count": 51,
   "metadata": {},
   "outputs": [],
   "source": [
    "training_data['Emotion_label'].replace({\"neutral\": \"1\", \"calm\": \"2\", \"happy\": \"3\", \"sad\": \"4\", \"angry\": \"5\", \"fearful\": \"6\", \"disgust\": \"7\", \"surprised\": \"8\"}, inplace=True)\n",
    "testing_data['Emotion_label'].replace({\"neutral\": \"1\", \"calm\": \"2\", \"happy\": \"3\", \"sad\": \"4\", \"angry\": \"5\", \"fearful\": \"6\", \"disgust\": \"7\", \"surprised\": \"8\"}, inplace=True)"
   ]
  },
  {
   "cell_type": "markdown",
   "metadata": {},
   "source": [
    "#### Preparing Testing Data "
   ]
  },
  {
   "cell_type": "code",
   "execution_count": 52,
   "metadata": {
    "scrolled": true
   },
   "outputs": [],
   "source": [
    "training_label = training_data['Emotion_label']\n",
    "training_data = training_data.drop(['Emotion_label'], axis = 1)\n",
    "testing_label = testing_data['Emotion_label']\n",
    "testing_data = testing_data.drop(['Emotion_label'], axis = 1)"
   ]
  },
  {
   "cell_type": "code",
   "execution_count": 53,
   "metadata": {},
   "outputs": [],
   "source": [
    "training_data.reset_index(drop = True, inplace = True)\n",
    "testing_data.reset_index(drop = True, inplace = True)\n",
    "training_label.reset_index(drop = True, inplace = True)\n",
    "testing_label.reset_index(drop = True, inplace = True)"
   ]
  },
  {
   "cell_type": "markdown",
   "metadata": {},
   "source": [
    "#### Testing Cell "
   ]
  },
  {
   "cell_type": "code",
   "execution_count": 54,
   "metadata": {},
   "outputs": [],
   "source": [
    "training_label = np.asarray(training_label).astype('float32')\n",
    "testing_label = np.asarray(testing_label).astype('float32')"
   ]
  },
  {
   "cell_type": "code",
   "execution_count": null,
   "metadata": {},
   "outputs": [],
   "source": []
  },
  {
   "cell_type": "code",
   "execution_count": 55,
   "metadata": {},
   "outputs": [],
   "source": [
    "training_data['MCFF'] = training_data['MCFF'].astype(float)\n",
    "training_data['Chroma'] = training_data['Chroma'].astype(float)"
   ]
  },
  {
   "cell_type": "code",
   "execution_count": 56,
   "metadata": {},
   "outputs": [],
   "source": [
    "# training_label = np.reshape(training_label,-1)\n",
    "# testing_label = np.reshape(testing_label,-1)"
   ]
  },
  {
   "cell_type": "code",
   "execution_count": null,
   "metadata": {},
   "outputs": [],
   "source": []
  },
  {
   "cell_type": "markdown",
   "metadata": {},
   "source": [
    "#### SVC "
   ]
  },
  {
   "cell_type": "code",
   "execution_count": 63,
   "metadata": {},
   "outputs": [],
   "source": [
    "from sklearn.svm import SVC\n",
    "from sklearn.linear_model import LogisticRegression\n",
    "import numpy as np\n",
    "from sklearn.metrics import confusion_matrix\n",
    "from sklearn.metrics import accuracy_score"
   ]
  },
  {
   "cell_type": "code",
   "execution_count": 64,
   "metadata": {},
   "outputs": [
    {
     "name": "stdout",
     "output_type": "stream",
     "text": [
      "0.174\n"
     ]
    }
   ],
   "source": [
    "reg_svc = SVC()\n",
    "reg_svc.fit(training_data, training_label)\n",
    "reg_svc_pred = reg_svc.predict(testing_data)\n",
    "\n",
    "print(accuracy_score(testing_label, reg_svc_pred))"
   ]
  },
  {
   "cell_type": "markdown",
   "metadata": {},
   "source": [
    "### LogisticRegression"
   ]
  },
  {
   "cell_type": "code",
   "execution_count": 65,
   "metadata": {},
   "outputs": [
    {
     "name": "stdout",
     "output_type": "stream",
     "text": [
      "0.174\n"
     ]
    },
    {
     "name": "stderr",
     "output_type": "stream",
     "text": [
      "C:\\Anaconda\\lib\\site-packages\\sklearn\\linear_model\\_logistic.py:763: ConvergenceWarning: lbfgs failed to converge (status=1):\n",
      "STOP: TOTAL NO. of ITERATIONS REACHED LIMIT.\n",
      "\n",
      "Increase the number of iterations (max_iter) or scale the data as shown in:\n",
      "    https://scikit-learn.org/stable/modules/preprocessing.html\n",
      "Please also refer to the documentation for alternative solver options:\n",
      "    https://scikit-learn.org/stable/modules/linear_model.html#logistic-regression\n",
      "  n_iter_i = _check_optimize_result(\n"
     ]
    }
   ],
   "source": [
    "reg_log = LogisticRegression()\n",
    "reg_log.fit(training_data, training_label)\n",
    "reg_log_pred = reg_log.predict(testing_data)\n",
    "\n",
    "print(accuracy_score(testing_label, reg_log_pred))"
   ]
  },
  {
   "cell_type": "code",
   "execution_count": 66,
   "metadata": {},
   "outputs": [
    {
     "data": {
      "text/plain": [
       "<AxesSubplot:>"
      ]
     },
     "execution_count": 66,
     "metadata": {},
     "output_type": "execute_result"
    },
    {
     "data": {
      "image/png": "[encoded data removed]",
      "text/plain": [
       "<Figure size 720x504 with 2 Axes>"
      ]
     },
     "metadata": {
      "needs_background": "light"
     },
     "output_type": "display_data"
    }
   ],
   "source": [
    "from sklearn.metrics import confusion_matrix\n",
    "import seaborn as sn\n",
    "\n",
    "array = confusion_matrix(testing_label, reg_log_pred)\n",
    "\n",
    "df_cm = pd.DataFrame(array, index = [i for i in \"ABCDEFGH\"],columns = [i for i in \"ABCDEFGH\"])\n",
    "plt.figure(figsize = (10,7))\n",
    "sn.heatmap(df_cm, annot=True)"
   ]
  },
  {
   "cell_type": "markdown",
   "metadata": {},
   "source": [
    "### RandomForest"
   ]
  },
  {
   "cell_type": "code",
   "execution_count": 67,
   "metadata": {},
   "outputs": [],
   "source": [
    "from sklearn.ensemble import RandomForestClassifier\n",
    "from sklearn.model_selection import train_test_split\n",
    "from sklearn.metrics import accuracy_score"
   ]
  },
  {
   "cell_type": "code",
   "execution_count": 69,
   "metadata": {},
   "outputs": [
    {
     "data": {
      "text/plain": [
       "RandomForestClassifier()"
      ]
     },
     "execution_count": 69,
     "metadata": {},
     "output_type": "execute_result"
    }
   ],
   "source": [
    "model = RandomForestClassifier()\n",
    "model.fit(training_data, training_label)"
   ]
  },
  {
   "cell_type": "code",
   "execution_count": 72,
   "metadata": {},
   "outputs": [],
   "source": [
    "y_pred = model.predict(testing_data)"
   ]
  },
  {
   "cell_type": "code",
   "execution_count": 75,
   "metadata": {},
   "outputs": [
    {
     "data": {
      "text/plain": [
       "0.681"
      ]
     },
     "execution_count": 75,
     "metadata": {},
     "output_type": "execute_result"
    }
   ],
   "source": [
    "accuracy = accuracy_score(testing_label, y_pred)\n",
    "accuracy"
   ]
  },
  {
   "cell_type": "code",
   "execution_count": 94,
   "metadata": {},
   "outputs": [
    {
     "name": "stdout",
     "output_type": "stream",
     "text": [
      "accuracy 0.69\n"
     ]
    }
   ],
   "source": [
    "model = RandomForestClassifier(n_estimators=100, max_depth=10, min_samples_split=2)\n",
    "model.fit(training_data, training_label)\n",
    "y_pred = model.predict(testing_data)\n",
    "accuracy = accuracy_score(testing_label, y_pred)\n",
    "print(\"accuracy\", accuracy)"
   ]
  },
  {
   "cell_type": "code",
   "execution_count": 95,
   "metadata": {},
   "outputs": [
    {
     "data": {
      "text/plain": [
       "array([0.056752  , 0.0549307 , 0.08069495, 0.08130291, 0.2064616 ,\n",
       "       0.06775917, 0.00273492, 0.08436052, 0.06757942, 0.08752186,\n",
       "       0.05376661, 0.07564078, 0.08049455])"
      ]
     },
     "execution_count": 95,
     "metadata": {},
     "output_type": "execute_result"
    }
   ],
   "source": [
    "importance = model.feature_importances_\n",
    "importance"
   ]
  },
  {
   "cell_type": "code",
   "execution_count": 96,
   "metadata": {},
   "outputs": [
    {
     "data": {
      "text/plain": [
       "<AxesSubplot:>"
      ]
     },
     "execution_count": 96,
     "metadata": {},
     "output_type": "execute_result"
    },
    {
     "data": {
      "image/png": "[encoded data removed]",
      "text/plain": [
       "<Figure size 720x504 with 2 Axes>"
      ]
     },
     "metadata": {
      "needs_background": "light"
     },
     "output_type": "display_data"
    }
   ],
   "source": [
    "from sklearn.metrics import confusion_matrix\n",
    "import seaborn as sn\n",
    "\n",
    "array = confusion_matrix(testing_label, y_pred)\n",
    "\n",
    "df_cm = pd.DataFrame(array, index = [i for i in \"ABCDEFGH\"],columns = [i for i in \"ABCDEFGH\"])\n",
    "plt.figure(figsize = (10,7))\n",
    "sn.heatmap(df_cm, annot=True)"
   ]
  },
  {
   "cell_type": "markdown",
   "metadata": {},
   "source": [
    "### DecisionTree"
   ]
  },
  {
   "cell_type": "code",
   "execution_count": 89,
   "metadata": {},
   "outputs": [],
   "source": [
    "from sklearn.tree import DecisionTreeClassifier\n",
    "from sklearn.model_selection import train_test_split\n",
    "from sklearn.metrics import accuracy_score"
   ]
  },
  {
   "cell_type": "code",
   "execution_count": 101,
   "metadata": {},
   "outputs": [],
   "source": [
    "model = DecisionTreeClassifier()\n",
    "\n"
   ]
  },
  {
   "cell_type": "code",
   "execution_count": 102,
   "metadata": {},
   "outputs": [
    {
     "data": {
      "text/plain": [
       "DecisionTreeClassifier()"
      ]
     },
     "execution_count": 102,
     "metadata": {},
     "output_type": "execute_result"
    }
   ],
   "source": [
    "model.fit(training_data, training_label)\n"
   ]
  },
  {
   "cell_type": "code",
   "execution_count": 103,
   "metadata": {},
   "outputs": [],
   "source": [
    "y_pred = model.predict(testing_data)"
   ]
  },
  {
   "cell_type": "code",
   "execution_count": 104,
   "metadata": {},
   "outputs": [
    {
     "name": "stdout",
     "output_type": "stream",
     "text": [
      "Accuracy: 0.663\n"
     ]
    }
   ],
   "source": [
    "accuracy = accuracy_score(testing_label, y_pred)\n",
    "print(\"Accuracy:\", accuracy)"
   ]
  },
  {
   "cell_type": "code",
   "execution_count": 105,
   "metadata": {},
   "outputs": [
    {
     "data": {
      "text/plain": [
       "<AxesSubplot:>"
      ]
     },
     "execution_count": 105,
     "metadata": {},
     "output_type": "execute_result"
    },
    {
     "data": {
      "image/png": "[encoded data removed]",
      "text/plain": [
       "<Figure size 720x504 with 2 Axes>"
      ]
     },
     "metadata": {
      "needs_background": "light"
     },
     "output_type": "display_data"
    }
   ],
   "source": [
    "from sklearn.metrics import confusion_matrix\n",
    "import seaborn as sn\n",
    "\n",
    "array = confusion_matrix(testing_label, y_pred)\n",
    "\n",
    "df_cm = pd.DataFrame(array, index = [i for i in \"ABCDEFGH\"],columns = [i for i in \"ABCDEFGH\"])\n",
    "plt.figure(figsize = (10,7))\n",
    "sn.heatmap(df_cm, annot=True)"
   ]
  },
  {
   "cell_type": "code",
   "execution_count": null,
   "metadata": {},
   "outputs": [],
   "source": []
  },
  {
   "cell_type": "markdown",
   "metadata": {},
   "source": [
    "#### Coloured Progress Bar "
   ]
  },
  {
   "cell_type": "code",
   "execution_count": 16,
   "metadata": {
    "scrolled": true
   },
   "outputs": [
    {
     "data": {
      "text/html": [
       "<style>\n",
       ".enlighten-fg-red {\n",
       "  color: #cd0000;\n",
       "}\n",
       ".enlighten-fg-blue {\n",
       "  color: #0000ee;\n",
       "}\n",
       "</style>\n",
       "<div class=\"enlighten\">\n",
       "  <div class=\"enlighten-bar\">\n",
       "    <pre>Ticks 100%|<span class=\"enlighten-fg-red\">████████████████████████████████████████████████████</span>| 100/100 [00:12&lt;00:00, 8.51 ticks/s]</pre>\n",
       "  </div>\n",
       "  <div class=\"enlighten-bar\">\n",
       "    <pre>Tocks 100%|<span class=\"enlighten-fg-blue\">██████████████████████████████████████████████████████</span>| 20/20 [00:11&lt;00:00, 1.77 tocks/s]</pre>\n",
       "  </div>\n",
       "</div>\n"
      ],
      "text/plain": [
       "<IPython.core.display.HTML object>"
      ]
     },
     "metadata": {},
     "output_type": "display_data"
    },
    {
     "name": "stdout",
     "output_type": "stream",
     "text": [
      "The quick brown fox jumps over the lazy dog. 0\n",
      "The quick brown fox jumps over the lazy dog. 1\n",
      "The quick brown fox jumps over the lazy dog. 2\n",
      "The quick brown fox jumps over the lazy dog. 3\n",
      "The quick brown fox jumps over the lazy dog. 4\n",
      "The quick brown fox jumps over the lazy dog. 5\n",
      "The quick brown fox jumps over the lazy dog. 6\n",
      "The quick brown fox jumps over the lazy dog. 7\n",
      "The quick brown fox jumps over the lazy dog. 8\n",
      "The quick brown fox jumps over the lazy dog. 9\n",
      "The quick brown fox jumps over the lazy dog. 10\n",
      "The quick brown fox jumps over the lazy dog. 11\n",
      "The quick brown fox jumps over the lazy dog. 12\n",
      "The quick brown fox jumps over the lazy dog. 13\n",
      "The quick brown fox jumps over the lazy dog. 14\n",
      "The quick brown fox jumps over the lazy dog. 15\n",
      "The quick brown fox jumps over the lazy dog. 16\n",
      "The quick brown fox jumps over the lazy dog. 17\n",
      "The quick brown fox jumps over the lazy dog. 18\n",
      "The quick brown fox jumps over the lazy dog. 19\n",
      "The quick brown fox jumps over the lazy dog. 20\n",
      "The quick brown fox jumps over the lazy dog. 21\n",
      "The quick brown fox jumps over the lazy dog. 22\n",
      "The quick brown fox jumps over the lazy dog. 23\n",
      "The quick brown fox jumps over the lazy dog. 24\n",
      "The quick brown fox jumps over the lazy dog. 25\n",
      "The quick brown fox jumps over the lazy dog. 26\n",
      "The quick brown fox jumps over the lazy dog. 27\n",
      "The quick brown fox jumps over the lazy dog. 28\n",
      "The quick brown fox jumps over the lazy dog. 29\n",
      "The quick brown fox jumps over the lazy dog. 30\n",
      "The quick brown fox jumps over the lazy dog. 31\n",
      "The quick brown fox jumps over the lazy dog. 32\n",
      "The quick brown fox jumps over the lazy dog. 33\n",
      "The quick brown fox jumps over the lazy dog. 34\n",
      "The quick brown fox jumps over the lazy dog. 35\n",
      "The quick brown fox jumps over the lazy dog. 36\n",
      "The quick brown fox jumps over the lazy dog. 37\n",
      "The quick brown fox jumps over the lazy dog. 38\n",
      "The quick brown fox jumps over the lazy dog. 39\n",
      "The quick brown fox jumps over the lazy dog. 40\n",
      "The quick brown fox jumps over the lazy dog. 41\n",
      "The quick brown fox jumps over the lazy dog. 42\n",
      "The quick brown fox jumps over the lazy dog. 43\n",
      "The quick brown fox jumps over the lazy dog. 44\n",
      "The quick brown fox jumps over the lazy dog. 45\n",
      "The quick brown fox jumps over the lazy dog. 46\n",
      "The quick brown fox jumps over the lazy dog. 47\n",
      "The quick brown fox jumps over the lazy dog. 48\n",
      "The quick brown fox jumps over the lazy dog. 49\n",
      "The quick brown fox jumps over the lazy dog. 50\n",
      "The quick brown fox jumps over the lazy dog. 51\n",
      "The quick brown fox jumps over the lazy dog. 52\n",
      "The quick brown fox jumps over the lazy dog. 53\n",
      "The quick brown fox jumps over the lazy dog. 54\n",
      "The quick brown fox jumps over the lazy dog. 55\n",
      "The quick brown fox jumps over the lazy dog. 56\n",
      "The quick brown fox jumps over the lazy dog. 57\n",
      "The quick brown fox jumps over the lazy dog. 58\n",
      "The quick brown fox jumps over the lazy dog. 59\n",
      "The quick brown fox jumps over the lazy dog. 60\n",
      "The quick brown fox jumps over the lazy dog. 61\n",
      "The quick brown fox jumps over the lazy dog. 62\n",
      "The quick brown fox jumps over the lazy dog. 63\n",
      "The quick brown fox jumps over the lazy dog. 64\n",
      "The quick brown fox jumps over the lazy dog. 65\n",
      "The quick brown fox jumps over the lazy dog. 66\n",
      "The quick brown fox jumps over the lazy dog. 67\n",
      "The quick brown fox jumps over the lazy dog. 68\n",
      "The quick brown fox jumps over the lazy dog. 69\n",
      "The quick brown fox jumps over the lazy dog. 70\n",
      "The quick brown fox jumps over the lazy dog. 71\n",
      "The quick brown fox jumps over the lazy dog. 72\n",
      "The quick brown fox jumps over the lazy dog. 73\n",
      "The quick brown fox jumps over the lazy dog. 74\n",
      "The quick brown fox jumps over the lazy dog. 75\n",
      "The quick brown fox jumps over the lazy dog. 76\n",
      "The quick brown fox jumps over the lazy dog. 77\n",
      "The quick brown fox jumps over the lazy dog. 78\n",
      "The quick brown fox jumps over the lazy dog. 79\n",
      "The quick brown fox jumps over the lazy dog. 80\n",
      "The quick brown fox jumps over the lazy dog. 81\n",
      "The quick brown fox jumps over the lazy dog. 82\n",
      "The quick brown fox jumps over the lazy dog. 83\n",
      "The quick brown fox jumps over the lazy dog. 84\n",
      "The quick brown fox jumps over the lazy dog. 85\n",
      "The quick brown fox jumps over the lazy dog. 86\n",
      "The quick brown fox jumps over the lazy dog. 87\n",
      "The quick brown fox jumps over the lazy dog. 88\n",
      "The quick brown fox jumps over the lazy dog. 89\n",
      "The quick brown fox jumps over the lazy dog. 90\n",
      "The quick brown fox jumps over the lazy dog. 91\n",
      "The quick brown fox jumps over the lazy dog. 92\n",
      "The quick brown fox jumps over the lazy dog. 93\n",
      "The quick brown fox jumps over the lazy dog. 94\n",
      "The quick brown fox jumps over the lazy dog. 95\n",
      "The quick brown fox jumps over the lazy dog. 96\n",
      "The quick brown fox jumps over the lazy dog. 97\n",
      "The quick brown fox jumps over the lazy dog. 98\n",
      "The quick brown fox jumps over the lazy dog. 99\n"
     ]
    }
   ],
   "source": [
    "import time\n",
    "import enlighten\n",
    "\n",
    "manager = enlighten.get_manager()\n",
    "ticks = manager.counter(total=100, desc=\"Ticks\", unit=\"ticks\", color=\"red\")\n",
    "tocks = manager.counter(total=20, desc=\"Tocks\", unit=\"tocks\", color=\"blue\")\n",
    "\n",
    "for num in range(100):\n",
    "    time.sleep(0.1)  # Simulate work\n",
    "    print(\"The quick brown fox jumps over the lazy dog. {}\".format(num))\n",
    "    ticks.update()\n",
    "    if not num % 5:\n",
    "        tocks.update()\n",
    "\n",
    "manager.stop()"
   ]
  },
  {
   "cell_type": "markdown",
   "metadata": {},
   "source": [
    "#### Black Progress Bar "
   ]
  },
  {
   "cell_type": "code",
   "execution_count": 23,
   "metadata": {},
   "outputs": [],
   "source": [
    "# Print iterations progress\n",
    "def printProgressBar (iteration, total, prefix = '', suffix = '', decimals = 1, length = 100, fill = '█', printEnd = \"\\r\"):\n",
    "    \"\"\"\n",
    "    Call in a loop to create terminal progress bar\n",
    "    @params:\n",
    "        iteration   - Required  : current iteration (Int)\n",
    "        total       - Required  : total iterations (Int)\n",
    "        prefix      - Optional  : prefix string (Str)\n",
    "        suffix      - Optional  : suffix string (Str)\n",
    "        decimals    - Optional  : positive number of decimals in percent complete (Int)\n",
    "        length      - Optional  : character length of bar (Int)\n",
    "        fill        - Optional  : bar fi\n",
    "        ll character (Str)\n",
    "        printEnd    - Optional  : end character (e.g. \"\\r\", \"\\r\\n\") (Str)\n",
    "    \"\"\"\n",
    "    percent = (\"{0:.\" + str(decimals) + \"f}\").format(100 * (iteration / float(total)))\n",
    "    filledLength = int(length * iteration // total)\n",
    "    bar = fill * filledLength + '-' * (length - filledLength)\n",
    "    print(f'\\r{prefix} |{bar}| {percent}% {suffix}', end = printEnd)\n",
    "    # Print New Line on Complete\n",
    "    if iteration-1 == total: \n",
    "        print()"
   ]
  },
  {
   "cell_type": "markdown",
   "metadata": {},
   "source": [
    "#### Timer "
   ]
  },
  {
   "cell_type": "code",
   "execution_count": null,
   "metadata": {},
   "outputs": [],
   "source": [
    "for i in range(1,21):\n",
    "    print(f'\\r{i}{\" senconds\"}',end='\\r')\n",
    "    sleep(0.5)"
   ]
  },
  {
   "cell_type": "code",
   "execution_count": null,
   "metadata": {},
   "outputs": [],
   "source": []
  }
 ],
 "metadata": {
  "kernelspec": {
   "display_name": "Python 3",
   "language": "python",
   "name": "python3"
  },
  "language_info": {
   "codemirror_mode": {
    "name": "ipython",
    "version": 3
   },
   "file_extension": ".py",
   "mimetype": "text/x-python",
   "name": "python",
   "nbconvert_exporter": "python",
   "pygments_lexer": "ipython3",
   "version": "3.8.8"
  }
 },
 "nbformat": 4,
 "nbformat_minor": 4
}
